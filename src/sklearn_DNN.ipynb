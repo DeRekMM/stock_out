{
 "cells": [
  {
   "cell_type": "code",
   "execution_count": 1,
   "metadata": {},
   "outputs": [],
   "source": [
    "import os\n",
    "import time, datetime\n",
    "import numpy as np\n",
    "import pandas as pd\n",
    "from sklearn import svm\n",
    "from sklearn import preprocessing\n",
    "from sklearn.neural_network import MLPClassifier\n",
    "import sklearn.metrics \n",
    "\n",
    "import matplotlib as mpl\n",
    "mpl.use('TkAgg')\n",
    "\n",
    "\n",
    "import matplotlib.pyplot as plt\n",
    "%matplotlib inline\n",
    "\n",
    "import pickle\n",
    "from sklearn.externals import joblib \n",
    "\n",
    "\n"
   ]
  },
  {
   "cell_type": "code",
   "execution_count": 2,
   "metadata": {},
   "outputs": [],
   "source": [
    "def rand_datasets(df, train_pct):\n",
    "    rand_num = np.random.rand(len(df))\n",
    "    \n",
    "    df_train = df[rand_num < train_pct]\n",
    "    df_cross = df[rand_num >= train_pct]\n",
    "    \n",
    "    return df_train, df_cross\n",
    "\n",
    "#Geting data and change data type\n",
    "data_dir = '/Users/derekwang/Work/Stock_out/Data/STOCK_OUT_master_training.csv'\n",
    "\n",
    "data_raw = pd.read_csv(data_dir, sep=',', header=0)\n",
    "#data_raw['TRUCK_CONSTRAINT'] = data_raw.TRUCK_CONSTRAINT.astype('int64')\n"
   ]
  },
  {
   "cell_type": "code",
   "execution_count": 3,
   "metadata": {},
   "outputs": [
    {
     "data": {
      "text/html": [
       "<div>\n",
       "<style scoped>\n",
       "    .dataframe tbody tr th:only-of-type {\n",
       "        vertical-align: middle;\n",
       "    }\n",
       "\n",
       "    .dataframe tbody tr th {\n",
       "        vertical-align: top;\n",
       "    }\n",
       "\n",
       "    .dataframe thead th {\n",
       "        text-align: right;\n",
       "    }\n",
       "</style>\n",
       "<table border=\"1\" class=\"dataframe\">\n",
       "  <thead>\n",
       "    <tr style=\"text-align: right;\">\n",
       "      <th></th>\n",
       "      <th>LOC_ID</th>\n",
       "      <th>ITEM_ID</th>\n",
       "      <th>CAL_DT</th>\n",
       "      <th>STR_INV_STR_VOL_LVL_CD</th>\n",
       "      <th>STR_INV_STRD_VOL_LVL_CD</th>\n",
       "      <th>STR_INV_STRC_VOL_LVL_CD</th>\n",
       "      <th>STR_INV_STRSC_VOL_LVL_CD</th>\n",
       "      <th>ITEM_VLCTY_CD</th>\n",
       "      <th>OH_QTY</th>\n",
       "      <th>OO_QTY</th>\n",
       "      <th>...</th>\n",
       "      <th>REV_TM_DAYS_CNT</th>\n",
       "      <th>SFTY_STK_QTY</th>\n",
       "      <th>SVC_LVL_VAL</th>\n",
       "      <th>ASL_OSL_VAL</th>\n",
       "      <th>ADJ_ASW_QTY</th>\n",
       "      <th>CAR_PARM_CURR_RETL_AMT</th>\n",
       "      <th>WK1_FCST</th>\n",
       "      <th>WK2_FCST</th>\n",
       "      <th>WK3_FCST</th>\n",
       "      <th>SIMPL_OOS_IND</th>\n",
       "    </tr>\n",
       "  </thead>\n",
       "  <tbody>\n",
       "    <tr>\n",
       "      <th>0</th>\n",
       "      <td>2682</td>\n",
       "      <td>6040770</td>\n",
       "      <td>2018-01-21</td>\n",
       "      <td>2</td>\n",
       "      <td>1</td>\n",
       "      <td>1</td>\n",
       "      <td>2</td>\n",
       "      <td>2</td>\n",
       "      <td>0.0</td>\n",
       "      <td>15</td>\n",
       "      <td>...</td>\n",
       "      <td>7</td>\n",
       "      <td>18.351539</td>\n",
       "      <td>99.70</td>\n",
       "      <td>77.08</td>\n",
       "      <td>4.490</td>\n",
       "      <td>13.27</td>\n",
       "      <td>5.155</td>\n",
       "      <td>3.969</td>\n",
       "      <td>3.513</td>\n",
       "      <td>1</td>\n",
       "    </tr>\n",
       "    <tr>\n",
       "      <th>1</th>\n",
       "      <td>359</td>\n",
       "      <td>5983727</td>\n",
       "      <td>2018-01-21</td>\n",
       "      <td>2</td>\n",
       "      <td>1</td>\n",
       "      <td>2</td>\n",
       "      <td>2</td>\n",
       "      <td>3</td>\n",
       "      <td>11.0</td>\n",
       "      <td>0</td>\n",
       "      <td>...</td>\n",
       "      <td>7</td>\n",
       "      <td>12.731372</td>\n",
       "      <td>95.00</td>\n",
       "      <td>98.77</td>\n",
       "      <td>2.890</td>\n",
       "      <td>1.98</td>\n",
       "      <td>5.066</td>\n",
       "      <td>5.114</td>\n",
       "      <td>5.018</td>\n",
       "      <td>1</td>\n",
       "    </tr>\n",
       "    <tr>\n",
       "      <th>2</th>\n",
       "      <td>1262</td>\n",
       "      <td>719971</td>\n",
       "      <td>2018-01-21</td>\n",
       "      <td>2</td>\n",
       "      <td>1</td>\n",
       "      <td>2</td>\n",
       "      <td>2</td>\n",
       "      <td>1</td>\n",
       "      <td>13.0</td>\n",
       "      <td>90</td>\n",
       "      <td>...</td>\n",
       "      <td>4</td>\n",
       "      <td>53.837502</td>\n",
       "      <td>88.68</td>\n",
       "      <td>97.72</td>\n",
       "      <td>44.697</td>\n",
       "      <td>3.48</td>\n",
       "      <td>53.784</td>\n",
       "      <td>52.318</td>\n",
       "      <td>50.330</td>\n",
       "      <td>1</td>\n",
       "    </tr>\n",
       "    <tr>\n",
       "      <th>3</th>\n",
       "      <td>1366</td>\n",
       "      <td>2601810</td>\n",
       "      <td>2018-01-21</td>\n",
       "      <td>2</td>\n",
       "      <td>1</td>\n",
       "      <td>1</td>\n",
       "      <td>2</td>\n",
       "      <td>2</td>\n",
       "      <td>40.0</td>\n",
       "      <td>0</td>\n",
       "      <td>...</td>\n",
       "      <td>7</td>\n",
       "      <td>25.809154</td>\n",
       "      <td>99.30</td>\n",
       "      <td>99.90</td>\n",
       "      <td>12.470</td>\n",
       "      <td>0.96</td>\n",
       "      <td>12.796</td>\n",
       "      <td>12.548</td>\n",
       "      <td>11.958</td>\n",
       "      <td>0</td>\n",
       "    </tr>\n",
       "    <tr>\n",
       "      <th>4</th>\n",
       "      <td>755</td>\n",
       "      <td>5218758</td>\n",
       "      <td>2018-01-21</td>\n",
       "      <td>1</td>\n",
       "      <td>1</td>\n",
       "      <td>1</td>\n",
       "      <td>1</td>\n",
       "      <td>1</td>\n",
       "      <td>121.0</td>\n",
       "      <td>30</td>\n",
       "      <td>...</td>\n",
       "      <td>7</td>\n",
       "      <td>63.625968</td>\n",
       "      <td>99.80</td>\n",
       "      <td>100.00</td>\n",
       "      <td>25.311</td>\n",
       "      <td>19.98</td>\n",
       "      <td>29.909</td>\n",
       "      <td>29.334</td>\n",
       "      <td>28.183</td>\n",
       "      <td>0</td>\n",
       "    </tr>\n",
       "  </tbody>\n",
       "</table>\n",
       "<p>5 rows × 31 columns</p>\n",
       "</div>"
      ],
      "text/plain": [
       "   LOC_ID  ITEM_ID      CAL_DT  STR_INV_STR_VOL_LVL_CD  \\\n",
       "0    2682  6040770  2018-01-21                       2   \n",
       "1     359  5983727  2018-01-21                       2   \n",
       "2    1262   719971  2018-01-21                       2   \n",
       "3    1366  2601810  2018-01-21                       2   \n",
       "4     755  5218758  2018-01-21                       1   \n",
       "\n",
       "   STR_INV_STRD_VOL_LVL_CD  STR_INV_STRC_VOL_LVL_CD  STR_INV_STRSC_VOL_LVL_CD  \\\n",
       "0                        1                        1                         2   \n",
       "1                        1                        2                         2   \n",
       "2                        1                        2                         2   \n",
       "3                        1                        1                         2   \n",
       "4                        1                        1                         1   \n",
       "\n",
       "   ITEM_VLCTY_CD  OH_QTY  OO_QTY      ...        REV_TM_DAYS_CNT  \\\n",
       "0              2     0.0      15      ...                      7   \n",
       "1              3    11.0       0      ...                      7   \n",
       "2              1    13.0      90      ...                      4   \n",
       "3              2    40.0       0      ...                      7   \n",
       "4              1   121.0      30      ...                      7   \n",
       "\n",
       "   SFTY_STK_QTY  SVC_LVL_VAL  ASL_OSL_VAL  ADJ_ASW_QTY  \\\n",
       "0     18.351539        99.70        77.08        4.490   \n",
       "1     12.731372        95.00        98.77        2.890   \n",
       "2     53.837502        88.68        97.72       44.697   \n",
       "3     25.809154        99.30        99.90       12.470   \n",
       "4     63.625968        99.80       100.00       25.311   \n",
       "\n",
       "   CAR_PARM_CURR_RETL_AMT  WK1_FCST  WK2_FCST  WK3_FCST  SIMPL_OOS_IND  \n",
       "0                   13.27     5.155     3.969     3.513              1  \n",
       "1                    1.98     5.066     5.114     5.018              1  \n",
       "2                    3.48    53.784    52.318    50.330              1  \n",
       "3                    0.96    12.796    12.548    11.958              0  \n",
       "4                   19.98    29.909    29.334    28.183              0  \n",
       "\n",
       "[5 rows x 31 columns]"
      ]
     },
     "execution_count": 3,
     "metadata": {},
     "output_type": "execute_result"
    }
   ],
   "source": [
    "data_clean = data_raw # outlier_remove(data_raw)\n",
    "data_clean.head()"
   ]
  },
  {
   "cell_type": "code",
   "execution_count": 4,
   "metadata": {},
   "outputs": [],
   "source": [
    "df_train, df_cross = rand_datasets(data_clean, 0.80)"
   ]
  },
  {
   "cell_type": "code",
   "execution_count": 5,
   "metadata": {},
   "outputs": [],
   "source": [
    "train_features = df_train.iloc[:,3:-1]\n",
    "X = train_features.values\n",
    "train_labels = df_train['SIMPL_OOS_IND']\n",
    "y = train_labels.values\n",
    "\n",
    "\n",
    "\n",
    "test_features = df_cross.iloc[:,3:-1]\n",
    "X_test = test_features.values\n",
    "test_labels = df_cross['SIMPL_OOS_IND']\n",
    "y_test = test_labels.values\n",
    "\n",
    "\n",
    "scaler = preprocessing.StandardScaler()\n",
    "scaler.fit(X)\n",
    "X_train_scaled = scaler.transform(X)\n",
    "X_test_scaled = scaler.transform(X_test)"
   ]
  },
  {
   "cell_type": "code",
   "execution_count": 6,
   "metadata": {},
   "outputs": [
    {
     "name": "stdout",
     "output_type": "stream",
     "text": [
      "start time is 11:06:20\n",
      "end time is 12:15:30\n",
      "train score is 0.834531352030293\n",
      "F1 score on self is 0.280739955710727\n",
      "Recall score on self is 0.1759685984202441\n",
      "Precision score on self is 0.6938670058428396\n",
      "test score is 0.8325415098157072\n",
      "F1 score on holdout is 0.27441369380899056\n",
      "Recall score on holdout is 0.17207977207977207\n",
      "Precision score on holdout is 0.6770445216293022\n"
     ]
    }
   ],
   "source": [
    "summary = []\n",
    "\n",
    "#Start training\n",
    "start_time = datetime.datetime.now().strftime('%H:%M:%S')\n",
    "print(\"start time is %s\" %start_time)\n",
    "\n",
    "clf_dnn = MLPClassifier(alpha = .00001, hidden_layer_sizes = (64, 128, 64, 32, 16, 8), max_iter = 10000)\n",
    "\n",
    "\n",
    "clf_dnn.fit(X_train_scaled,y)\n",
    "\n",
    "end_time = datetime.datetime.now().strftime('%H:%M:%S')\n",
    "print(\"end time is %s\" % end_time)\n",
    "\n",
    "joblib.dump(clf_dnn, 'clf.pkl')\n",
    "\n",
    "\n",
    "train_score = clf_dnn.score(X_train_scaled,y)\n",
    "print('train score is %s' % train_score)\n",
    "\n",
    "\n",
    "y_pred = clf_dnn.predict(X_train_scaled)\n",
    "\n",
    "#y_pred_df = pd.DataFrame(y_pred)\n",
    "#y_pred_df.to_csv('C:\\\\Users\\\\MXW6827\\\\Documents\\\\Work\\\\Truck Load Overage\\\\Models\\\\test\\\\Cross_val_prediction_1009.csv')\n",
    "\n",
    "\n",
    "f1_score = sklearn.metrics.f1_score(y, y_pred)\n",
    "print(\"F1 score on self is %s\" % f1_score)\n",
    "recall_score = sklearn.metrics.recall_score(y, y_pred)\n",
    "print(\"Recall score on self is %s\" % recall_score)\n",
    "precision_score = sklearn.metrics.precision_score(y, y_pred)\n",
    "print(\"Precision score on self is %s\" % precision_score)\n",
    "\n",
    "test_score = clf_dnn.score(X_test_scaled,y_test)\n",
    "print ('test score is %s' % test_score)\n",
    "y_t_pred = clf_dnn.predict(X_test_scaled)\n",
    "\n",
    "t_f1_score = sklearn.metrics.f1_score(y_test, y_t_pred)\n",
    "print(\"F1 score on holdout is %s\" % t_f1_score)\n",
    "t_recall_score = sklearn.metrics.recall_score(y_test, y_t_pred)\n",
    "print(\"Recall score on holdout is %s\" % t_recall_score)\n",
    "t_precision_score = sklearn.metrics.precision_score(y_test, y_t_pred)\n",
    "print(\"Precision score on holdout is %s\" % t_precision_score)\n",
    "\n",
    "#     summary .append([i * 10, train_score, f1_score, recall_score, precision_score, test_score, t_f1_score, t_recall_score, t_precision_score])"
   ]
  },
  {
   "cell_type": "code",
   "execution_count": 7,
   "metadata": {},
   "outputs": [
    {
     "data": {
      "text/plain": [
       "array([[0.16466347, 0.83533653],\n",
       "       [0.49339059, 0.50660941],\n",
       "       [0.91721569, 0.08278431],\n",
       "       ...,\n",
       "       [0.36779048, 0.63220952],\n",
       "       [0.97014731, 0.02985269],\n",
       "       [0.90632155, 0.09367845]])"
      ]
     },
     "execution_count": 7,
     "metadata": {},
     "output_type": "execute_result"
    }
   ],
   "source": [
    "y_pred_prob =clf_dnn.predict_proba(X_test_scaled)\n",
    "y_pred_prob"
   ]
  },
  {
   "cell_type": "code",
   "execution_count": 8,
   "metadata": {},
   "outputs": [
    {
     "data": {
      "image/png": "[encoded data removed]",
      "text/plain": [
       "<matplotlib.figure.Figure at 0x13bd6dcf8>"
      ]
     },
     "metadata": {},
     "output_type": "display_data"
    }
   ],
   "source": [
    "from sklearn.metrics import precision_recall_curve\n",
    "from sklearn.metrics import average_precision_score\n",
    "average_precision = average_precision_score(y_test, y_pred_prob[:,1])\n",
    "precision, recall, thresholds = precision_recall_curve(y_test, y_pred_prob[:,1])\n",
    "\n",
    "plt.step(recall, precision, color='b', alpha=0.2,\n",
    "         where='post')\n",
    "plt.fill_between(recall, precision, step='post', alpha=0.2,\n",
    "                 color='b')\n",
    "\n",
    "plt.xlabel('Recall')\n",
    "plt.ylabel('Precision')\n",
    "plt.ylim([0.0, 1.05])\n",
    "plt.xlim([0.0, 1.0])\n",
    "plt.title('2-class Precision-Recall curve: AP={0:0.2f}'.format(\n",
    "          average_precision))\n",
    "plt.show()"
   ]
  },
  {
   "cell_type": "code",
   "execution_count": 9,
   "metadata": {},
   "outputs": [
    {
     "data": {
      "text/html": [
       "<div>\n",
       "<style scoped>\n",
       "    .dataframe tbody tr th:only-of-type {\n",
       "        vertical-align: middle;\n",
       "    }\n",
       "\n",
       "    .dataframe tbody tr th {\n",
       "        vertical-align: top;\n",
       "    }\n",
       "\n",
       "    .dataframe thead th {\n",
       "        text-align: right;\n",
       "    }\n",
       "</style>\n",
       "<table border=\"1\" class=\"dataframe\">\n",
       "  <thead>\n",
       "    <tr style=\"text-align: right;\">\n",
       "      <th></th>\n",
       "      <th>Epochs</th>\n",
       "      <th>Train Score</th>\n",
       "      <th>Train F1</th>\n",
       "      <th>Train Recall</th>\n",
       "      <th>Train Precision</th>\n",
       "      <th>Test Score</th>\n",
       "      <th>Test F1</th>\n",
       "      <th>Test Recall</th>\n",
       "      <th>Test Precision</th>\n",
       "    </tr>\n",
       "  </thead>\n",
       "  <tbody>\n",
       "  </tbody>\n",
       "</table>\n",
       "</div>"
      ],
      "text/plain": [
       "Empty DataFrame\n",
       "Columns: [Epochs, Train Score, Train F1, Train Recall, Train Precision, Test Score, Test F1, Test Recall, Test Precision]\n",
       "Index: []"
      ]
     },
     "execution_count": 9,
     "metadata": {},
     "output_type": "execute_result"
    }
   ],
   "source": [
    "final_result = pd.DataFrame(data = summary, columns = ['Epochs','Train Score','Train F1','Train Recall', 'Train Precision', 'Test Score', 'Test F1', 'Test Recall', 'Test Precision'])\n",
    "final_result"
   ]
  },
  {
   "cell_type": "code",
   "execution_count": 10,
   "metadata": {},
   "outputs": [],
   "source": [
    "data_dir = '/Users/derekwang/Work/Stock_out/Data/STOCK_OUT_master_training_0219.csv'\n",
    "\n",
    "data_raw = pd.read_csv(data_dir, sep=',', header=0)\n",
    "final_test_features = data_raw.iloc[:,3:-1]\n",
    "X_final_test = final_test_features.values\n",
    "train_labels = data_raw['SIMPL_OOS_IND']\n",
    "y_final_test = train_labels.values\n",
    "X_final_test_scaled = scaler.transform(X_final_test)"
   ]
  },
  {
   "cell_type": "code",
   "execution_count": 11,
   "metadata": {},
   "outputs": [
    {
     "data": {
      "text/plain": [
       "array([[0.87830672, 0.12169328],\n",
       "       [0.96703122, 0.03296878],\n",
       "       [0.93044543, 0.06955457],\n",
       "       ...,\n",
       "       [0.93866073, 0.06133927],\n",
       "       [0.88978025, 0.11021975],\n",
       "       [0.92643052, 0.07356948]])"
      ]
     },
     "execution_count": 11,
     "metadata": {},
     "output_type": "execute_result"
    }
   ],
   "source": [
    "y_final_pred_prob =clf_dnn.predict_proba(X_final_test_scaled)\n",
    "y_final_pred_prob"
   ]
  },
  {
   "cell_type": "code",
   "execution_count": 3,
   "metadata": {},
   "outputs": [
    {
     "ename": "NameError",
     "evalue": "name 'average_precision_score' is not defined",
     "output_type": "error",
     "traceback": [
      "\u001b[0;31m---------------------------------------------------------------------------\u001b[0m",
      "\u001b[0;31mNameError\u001b[0m                                 Traceback (most recent call last)",
      "\u001b[0;32m<ipython-input-3-ef54ec0bf040>\u001b[0m in \u001b[0;36m<module>\u001b[0;34m()\u001b[0m\n\u001b[0;32m----> 1\u001b[0;31m \u001b[0maverage_precision\u001b[0m \u001b[0;34m=\u001b[0m \u001b[0maverage_precision_score\u001b[0m\u001b[0;34m(\u001b[0m\u001b[0my_final_test\u001b[0m\u001b[0;34m,\u001b[0m \u001b[0my_final_pred_prob\u001b[0m\u001b[0;34m[\u001b[0m\u001b[0;34m:\u001b[0m\u001b[0;34m,\u001b[0m\u001b[0;36m1\u001b[0m\u001b[0;34m]\u001b[0m\u001b[0;34m)\u001b[0m\u001b[0;34m\u001b[0m\u001b[0m\n\u001b[0m\u001b[1;32m      2\u001b[0m \u001b[0mprecision\u001b[0m\u001b[0;34m,\u001b[0m \u001b[0mrecall\u001b[0m\u001b[0;34m,\u001b[0m \u001b[0mthresholds\u001b[0m \u001b[0;34m=\u001b[0m \u001b[0mprecision_recall_curve\u001b[0m\u001b[0;34m(\u001b[0m\u001b[0my_final_test\u001b[0m\u001b[0;34m,\u001b[0m \u001b[0my_final_pred_prob\u001b[0m\u001b[0;34m[\u001b[0m\u001b[0;34m:\u001b[0m\u001b[0;34m,\u001b[0m\u001b[0;36m1\u001b[0m\u001b[0;34m]\u001b[0m\u001b[0;34m)\u001b[0m\u001b[0;34m\u001b[0m\u001b[0m\n\u001b[1;32m      3\u001b[0m \u001b[0;34m\u001b[0m\u001b[0m\n\u001b[1;32m      4\u001b[0m plt.step(recall, precision, color='b', alpha=0.2,\n\u001b[1;32m      5\u001b[0m          where='post')\n",
      "\u001b[0;31mNameError\u001b[0m: name 'average_precision_score' is not defined"
     ]
    }
   ],
   "source": [
    "average_precision = average_precision_score(y_final_test, y_final_pred_prob[:,1])\n",
    "precision, recall, thresholds = precision_recall_curve(y_final_test, y_final_pred_prob[:,1])\n",
    "\n",
    "plt.step(recall, precision, color='b', alpha=0.2,\n",
    "         where='post')\n",
    "plt.fill_between(recall, precision, step='post', alpha=0.2,\n",
    "                 color='b')\n",
    "\n",
    "plt.xlabel('Recall')\n",
    "plt.ylabel('Precision')\n",
    "plt.ylim([0.0, 1.05])\n",
    "plt.xlim([0.0, 1.0])\n",
    "plt.title('2-class Precision-Recall curve: AP={0:0.2f}'.format(\n",
    "          average_precision))\n",
    "plt.show()"
   ]
  },
  {
   "cell_type": "code",
   "execution_count": 2,
   "metadata": {},
   "outputs": [
    {
     "data": {
      "text/plain": [
       "'%r'"
      ]
     },
     "execution_count": 2,
     "metadata": {},
     "output_type": "execute_result"
    }
   ],
   "source": [
    "precision"
   ]
  },
  {
   "cell_type": "code",
   "execution_count": null,
   "metadata": {},
   "outputs": [],
   "source": []
  }
 ],
 "metadata": {
  "kernelspec": {
   "display_name": "Python 3",
   "language": "python",
   "name": "python3"
  },
  "language_info": {
   "codemirror_mode": {
    "name": "ipython",
    "version": 3
   },
   "file_extension": ".py",
   "mimetype": "text/x-python",
   "name": "python",
   "nbconvert_exporter": "python",
   "pygments_lexer": "ipython3",
   "version": "3.6.4"
  }
 },
 "nbformat": 4,
 "nbformat_minor": 2
}
