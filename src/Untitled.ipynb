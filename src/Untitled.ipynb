{
 "cells": [
  {
   "cell_type": "code",
   "execution_count": 4,
   "metadata": {},
   "outputs": [],
   "source": [
    "from tensorboard import summary as summary_lib\n",
    "import tensorflow as tf\n",
    "\n",
    "labels = tf.constant([False, True, True, False, True], dtype=tf.bool)\n",
    "predictions = tf.random_uniform(labels.get_shape(), maxval=1.0)\n",
    "_, update_op = summary_lib.pr_curve_streaming_op(name='foo',\n",
    "                                                 predictions=predictions,\n",
    "                                                 labels=labels,\n",
    "                                                 num_thresholds=11)\n",
    "merged_summary = tf.summary.merge_all()\n",
    "\n",
    "with tf.Session() as sess:\n",
    "  writer = tf.summary.FileWriter('/tmp/logdir', sess.graph)\n",
    "  sess.run(tf.local_variables_initializer())\n",
    "  for step in range(43):\n",
    "    sess.run([update_op])\n",
    "    if step % 6 == 0:\n",
    "      writer.add_summary(sess.run(merged_summary), global_step=step)"
   ]
  },
  {
   "cell_type": "code",
   "execution_count": 5,
   "metadata": {},
   "outputs": [
    {
     "data": {
      "text/plain": [
       "<tf.Tensor 'foo_2/pr_curves_1:0' shape=() dtype=string>"
      ]
     },
     "execution_count": 5,
     "metadata": {},
     "output_type": "execute_result"
    }
   ],
   "source": []
  }
 ],
 "metadata": {
  "kernelspec": {
   "display_name": "Python 3",
   "language": "python",
   "name": "python3"
  },
  "language_info": {
   "codemirror_mode": {
    "name": "ipython",
    "version": 3
   },
   "file_extension": ".py",
   "mimetype": "text/x-python",
   "name": "python",
   "nbconvert_exporter": "python",
   "pygments_lexer": "ipython3",
   "version": "3.6.4"
  }
 },
 "nbformat": 4,
 "nbformat_minor": 2
}
